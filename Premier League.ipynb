{
 "cells": [
  {
   "cell_type": "code",
   "execution_count": 16,
   "metadata": {},
   "outputs": [
    {
     "data": {
      "text/plain": [
       "(293, 35, 0.11945392491467577)"
      ]
     },
     "execution_count": 16,
     "metadata": {},
     "output_type": "execute_result"
    }
   ],
   "source": [
    "import pandas as pd\n",
    "\n",
    "df = pd.read_csv(\"C:\\\\Users\\\\msdof\\\\OneDrive\\\\Imagens\\\\Ligas\\\\E0 (1).csv\")\n",
    "\n",
    "# Calcular a diferença de gols e identificar partidas consideradas goleadas\n",
    "df['GoalDifference'] = abs(df['FTHG'] - df['FTAG'])\n",
    "\n",
    "# Definir o critério de goleada como uma diferença de 3 ou mais gols\n",
    "\n",
    "#goleadas = df[df['GoalDifference'] >= 3] \n",
    "\n",
    "# Correção: aplicando múltiplas condições de filtragem com parênteses adequados\n",
    "condicoes_goleada = (df['GoalDifference'] >= 3) & ~((df['FTHG'] == 3) & (df['FTAG'] == 0)) & ~((df['FTHG'] == 0) & (df['FTAG'] == 3))\n",
    "goleadas = df[condicoes_goleada]\n",
    "\n",
    "\n",
    "# Contar o número total de partidas e o número de goleadas\n",
    "total_matches = df.shape[0]\n",
    "total_goleadas = goleadas.shape[0]\n",
    "\n",
    "# Calcular a proporção de goleadas\n",
    "proportion_goleadas = total_goleadas / total_matches\n",
    "\n",
    "total_matches, total_goleadas, proportion_goleadas"
   ]
  },
  {
   "cell_type": "code",
   "execution_count": 17,
   "metadata": {},
   "outputs": [
    {
     "data": {
      "text/plain": [
       "4"
      ]
     },
     "execution_count": 17,
     "metadata": {},
     "output_type": "execute_result"
    }
   ],
   "source": [
    "# Nome do time para consulta\n",
    "team_name = \"Chelsea\"\n",
    "\n",
    "# Calcular goleadas feitas pelo time, seja como time da casa ou visitante\n",
    "goleadas_home = goleadas[goleadas['HomeTeam'] == team_name]\n",
    "goleadas_away = goleadas[goleadas['AwayTeam'] == team_name]\n",
    "\n",
    "# Goleadas totais feitas pelo time\n",
    "total_goleadas_by_team = len(goleadas_home) + len(goleadas_away)\n",
    "\n",
    "total_goleadas_by_team"
   ]
  },
  {
   "cell_type": "code",
   "execution_count": 18,
   "metadata": {},
   "outputs": [
    {
     "data": {
      "text/html": [
       "<div>\n",
       "<style scoped>\n",
       "    .dataframe tbody tr th:only-of-type {\n",
       "        vertical-align: middle;\n",
       "    }\n",
       "\n",
       "    .dataframe tbody tr th {\n",
       "        vertical-align: top;\n",
       "    }\n",
       "\n",
       "    .dataframe thead th {\n",
       "        text-align: right;\n",
       "    }\n",
       "</style>\n",
       "<table border=\"1\" class=\"dataframe\">\n",
       "  <thead>\n",
       "    <tr style=\"text-align: right;\">\n",
       "      <th></th>\n",
       "      <th>Date</th>\n",
       "      <th>HomeTeam</th>\n",
       "      <th>AwayTeam</th>\n",
       "      <th>FTHG</th>\n",
       "      <th>FTAG</th>\n",
       "    </tr>\n",
       "  </thead>\n",
       "  <tbody>\n",
       "    <tr>\n",
       "      <th>71</th>\n",
       "      <td>07/10/2023</td>\n",
       "      <td>Burnley</td>\n",
       "      <td>Chelsea</td>\n",
       "      <td>1</td>\n",
       "      <td>4</td>\n",
       "    </tr>\n",
       "    <tr>\n",
       "      <th>109</th>\n",
       "      <td>06/11/2023</td>\n",
       "      <td>Tottenham</td>\n",
       "      <td>Chelsea</td>\n",
       "      <td>1</td>\n",
       "      <td>4</td>\n",
       "    </tr>\n",
       "    <tr>\n",
       "      <th>123</th>\n",
       "      <td>25/11/2023</td>\n",
       "      <td>Newcastle</td>\n",
       "      <td>Chelsea</td>\n",
       "      <td>4</td>\n",
       "      <td>1</td>\n",
       "    </tr>\n",
       "    <tr>\n",
       "      <th>215</th>\n",
       "      <td>31/01/2024</td>\n",
       "      <td>Liverpool</td>\n",
       "      <td>Chelsea</td>\n",
       "      <td>4</td>\n",
       "      <td>1</td>\n",
       "    </tr>\n",
       "  </tbody>\n",
       "</table>\n",
       "</div>"
      ],
      "text/plain": [
       "           Date   HomeTeam AwayTeam  FTHG  FTAG\n",
       "71   07/10/2023    Burnley  Chelsea     1     4\n",
       "109  06/11/2023  Tottenham  Chelsea     1     4\n",
       "123  25/11/2023  Newcastle  Chelsea     4     1\n",
       "215  31/01/2024  Liverpool  Chelsea     4     1"
      ]
     },
     "execution_count": 18,
     "metadata": {},
     "output_type": "execute_result"
    }
   ],
   "source": [
    "# Concatenar os dataframes de goleadas em casa e fora para obter todas as goleadas do Chelsea\n",
    "goleadas_chelsea = pd.concat([goleadas_home, goleadas_away])\n",
    "\n",
    "# Selecionar colunas relevantes para exibir informações sobre os jogos de goleada\n",
    "goleadas_chelsea_info = goleadas_chelsea[['Date', 'HomeTeam', 'AwayTeam', 'FTHG', 'FTAG']]\n",
    "\n",
    "goleadas_chelsea_info\n"
   ]
  }
 ],
 "metadata": {
  "kernelspec": {
   "display_name": "Python 3",
   "language": "python",
   "name": "python3"
  },
  "language_info": {
   "codemirror_mode": {
    "name": "ipython",
    "version": 3
   },
   "file_extension": ".py",
   "mimetype": "text/x-python",
   "name": "python",
   "nbconvert_exporter": "python",
   "pygments_lexer": "ipython3",
   "version": "3.12.0"
  }
 },
 "nbformat": 4,
 "nbformat_minor": 2
}
